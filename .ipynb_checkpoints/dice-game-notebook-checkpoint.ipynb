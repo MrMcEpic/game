{
 "cells": [
  {
   "cell_type": "code",
   "execution_count": null,
   "metadata": {},
   "outputs": [],
   "source": [
    "import random\n",
    "import time\n",
    "import operator\n",
    "\n",
    "class Dice():\n",
    "    def __init__(self):\n",
    "        self.user_num=[]\n",
    "        self.track_op=str\n",
    "        self.comp_ops={\">\":operator.gt,\"<\":operator.lt,\"=\":operator.eq} #create operator dictionary\n",
    "        self.comp_roll()\n",
    "        self.input_drive()\n",
    "    def comp_roll(self):\n",
    "        self.roll=random.randint(1,6)+random.randint(1,6) #roll 2 d6\n",
    "    def input_drive(self):\n",
    "        self.user_input=input(\"Input a number and an [in]equality to compare against 2 random d6\\nExample: >2 to guess that 2 is less than computer roll\\n\")\n",
    "        #print(\"You input: {input}\".format(input=self.user_input))\n",
    "        for i in self.user_input:#New way to use for statements where i = element value instead of number\n",
    "            if i.isdigit() == True:\n",
    "                self.user_num.append(i) #Keep track of just number from input in list\n",
    "            else:\n",
    "                if i in self.comp_ops.keys(): #using dictionary keys from comp_ops to see if operator is valid\n",
    "                    self.track_op = i\n",
    "        self.logic()\n",
    "    def logic(self):\n",
    "        self.user_num=int(\"\".join(self.user_num)) #turn number list into one int\n",
    "        self.dif=self.roll-self.user_num\n",
    "        self.abs_dif=abs(self.dif)\n",
    "        try:\n",
    "            if self.track_op in self.comp_ops:\n",
    "                self.win = self.comp_ops[self.track_op](self.dif, 0)\n",
    "                print(\"You guessed: x {op} {uguess}\\nComputer rolled: {cguess}\\n{cguess} {op} {uguess}\\nDifference: {dif}\\n{result}\".format(uguess=self.user_num,op=self.track_op,cguess=self.roll,dif=self.abs_dif, result=\"Win! :)\"if self.win==True else \"Lose :(\"))\n",
    "                time.sleep(1)\n",
    "                print(\"Closing in 2 Seconds\")\n",
    "                time.sleep(2)\n",
    "        except:\n",
    "            print(\"Error: Did not input [in]equality\")\n",
    "            "
   ]
  },
  {
   "cell_type": "code",
   "execution_count": null,
   "metadata": {},
   "outputs": [],
   "source": [
    "mem=Dice()"
   ]
  }
 ],
 "metadata": {
  "kernelspec": {
   "display_name": "Python 3",
   "language": "python",
   "name": "python3"
  },
  "language_info": {
   "codemirror_mode": {
    "name": "ipython",
    "version": 3
   },
   "file_extension": ".py",
   "mimetype": "text/x-python",
   "name": "python",
   "nbconvert_exporter": "python",
   "pygments_lexer": "ipython3",
   "version": "3.7.1"
  }
 },
 "nbformat": 4,
 "nbformat_minor": 2
}
